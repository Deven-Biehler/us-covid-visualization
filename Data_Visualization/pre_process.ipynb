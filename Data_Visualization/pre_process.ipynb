{
 "cells": [
  {
   "cell_type": "code",
   "execution_count": null,
   "metadata": {},
   "outputs": [],
   "source": [
    "import pandas as pd\n",
    "import os"
   ]
  },
  {
   "cell_type": "markdown",
   "metadata": {},
   "source": [
    "# Pivot Input Data"
   ]
  },
  {
   "cell_type": "code",
   "execution_count": null,
   "metadata": {},
   "outputs": [],
   "source": [
    "# Read the deaths CSV file into a pandas DataFrame\n",
    "deaths_df = pd.read_csv(os.getcwd() + '/Data/deaths.csv')\n",
    "\n",
    "# Read the cases CSV file into a pandas DataFrame\n",
    "cases_df = pd.read_csv(os.getcwd() + '/Data/cases.csv')\n",
    "\n",
    "# Specify the column name of the county IDs\n",
    "county_id_column = 'CountyID'\n",
    "\n",
    "# Use the `melt` function to reshape the deaths DataFrame\n",
    "melted_deaths_df = pd.melt(deaths_df, id_vars=county_id_column, var_name='Date', value_name='Deaths')\n",
    "\n",
    "# Use the `melt` function to reshape the deaths DataFrame\n",
    "melted_cases_df = pd.melt(cases_df, id_vars=county_id_column, var_name='Date', value_name='Cases')\n",
    "\n",
    "\n",
    "melted_deaths_df.to_csv(os.getcwd() + \"/Data/melted_deaths_df.csv\", index=False)\n",
    "\n",
    "melted_cases_df.to_csv(os.getcwd() + \"/Data/melted_cases_df.csv\", index=False)\n",
    "print(melted_deaths_df, melted_cases_df)"
   ]
  },
  {
   "cell_type": "markdown",
   "metadata": {},
   "source": [
    "# Join Data"
   ]
  },
  {
   "cell_type": "code",
   "execution_count": null,
   "metadata": {},
   "outputs": [],
   "source": [
    "# Get the common columns between the two datasets\n",
    "common_columns = list(set(melted_cases_df.columns) & set(melted_deaths_df.columns))\n",
    "\n",
    "# Drop the common columns from df2 to avoid duplication\n",
    "melted_deaths_df = melted_deaths_df.drop(common_columns, axis=1)\n",
    "\n",
    "# Combine the datasets, preserving columns with the same name\n",
    "combined_df = pd.concat([melted_cases_df, melted_deaths_df], axis=1)\n",
    "combined_df"
   ]
  },
  {
   "cell_type": "markdown",
   "metadata": {},
   "source": [
    "# Add State Data"
   ]
  },
  {
   "cell_type": "code",
   "execution_count": null,
   "metadata": {},
   "outputs": [],
   "source": [
    "import pandas as pd\n",
    "\n",
    "def convert_county_to_state(county_fips):\n",
    "    # Extract the first two digits to get the state FIPS code\n",
    "    state_fip = str(county_fips)[:-5]\n",
    "    state_fip = int(state_fip)\n",
    "\n",
    "    return state_fip\n",
    "\n",
    "# Add a new column 'StateName' based on 'CountyID' column\n",
    "combined_df['StateID'] = combined_df['CountyID'].apply(convert_county_to_state).astype(int)\n",
    "\n",
    "# Save the DataFrame with the added column to a new CSV file\n",
    "combined_df.to_csv(os.getcwd() + \"/Data/covid_df.csv\", index=False)\n",
    "combined_df"
   ]
  },
  {
   "cell_type": "markdown",
   "metadata": {},
   "source": [
    "# Add Population"
   ]
  },
  {
   "cell_type": "code",
   "execution_count": null,
   "metadata": {},
   "outputs": [],
   "source": [
    "# Read the first XLSX file\n",
    "population_df = pd.read_excel(os.getcwd() + '/Data/co-est2022-pop.xlsx')\n",
    "\n",
    "# Read the second XLSX file\n",
    "fips_df = pd.read_excel(os.getcwd() + '/Data/all-geocodes-v2022.xlsx')\n",
    "\n",
    "# Drop unnecessary columns from fips_df\n",
    "fips_df = fips_df.drop(['Consolidated City FIPS Code', 'County Subdivision FIPS Code', 'Place FIPS Code', 'Summary Level'], axis=1)\n",
    "fips_df"
   ]
  },
  {
   "cell_type": "code",
   "execution_count": null,
   "metadata": {},
   "outputs": [],
   "source": [
    "# Split the \"Area Name\" column into two columns\n",
    "population_df[['County Name', 'State Name']] = population_df['Area Name'].str.split(',', expand=True)\n",
    "population_df[\"County Name\"] = population_df[\"County Name\"].str.strip()\n",
    "population_df[\"County Name\"] = population_df[\"County Name\"].str.replace(\".\", \"\")\n",
    "population_df[\"State Name\"] = population_df[\"State Name\"].str.strip()\n",
    "#population_df.dropna()\n",
    "# Rename column to make sense\n",
    "merged_df = population_df.rename(columns={2021: '2021 Population'})\n",
    "population_df = population_df.drop(['Area Name'], axis=1)\n",
    "\n",
    "population_df"
   ]
  },
  {
   "cell_type": "code",
   "execution_count": null,
   "metadata": {},
   "outputs": [],
   "source": [
    "# Merge \"State Name\" into population_df\n",
    "fips_df = fips_df.rename(columns={'Area Name': 'State Name'})\n",
    "population_df = pd.merge(population_df, fips_df[[\"State FIPS Code\", \"State Name\"]], on='State Name', how='left')\n",
    "\n",
    "\n",
    "# Merge \"County FIPS Code\" into population_df\n",
    "fips_df = fips_df.rename(columns={'State Name': 'County Name'})\n",
    "population_df = pd.merge(population_df, fips_df[['State FIPS Code', 'County Name', 'County FIPS Code']], on=['State FIPS Code', 'County Name'], how='left')\n",
    "\n",
    "# Create Complete FIPS Column\n",
    "population_df = population_df.dropna() # Drop NA here because some of the FIPS codes arent included in the origional dataset.\n",
    "population_df['County FIPS Code'] = population_df['County FIPS Code'].astype(int).astype(str)\n",
    "population_df['County FIPS Code'] = population_df['County FIPS Code'].str.zfill(3)\n",
    "population_df['State FIPS Code'] = population_df['State FIPS Code'].astype(int).astype(str)\n",
    "population_df['CountyID'] = population_df['State FIPS Code'] + population_df['County FIPS Code']\n",
    "population_df['CountyID'] = population_df['CountyID'].astype(int)\n",
    "population_df = population_df.drop(['State FIPS Code', 'County FIPS Code'], axis=1)\n",
    "\n",
    "population_df.to_csv(os.getcwd() + '/Data/population_df.csv', index=False)\n"
   ]
  },
  {
   "cell_type": "markdown",
   "metadata": {},
   "source": [
    "# Join and Format Population + Covid"
   ]
  },
  {
   "cell_type": "code",
   "execution_count": null,
   "metadata": {},
   "outputs": [],
   "source": [
    "# Join merged_df with combined_df\n",
    "population_df = population_df.rename(columns={'FIPS Code': 'CountyID'})\n",
    "joined_df = pd.merge(combined_df, population_df, on='CountyID', how='left')\n",
    "\n",
    "joined_df = joined_df.rename(columns={2021: '2021 Population'})\n",
    "joined_df = joined_df.reindex(columns=['Date', 'CountyID', 'StateID', 'State Name', 'Cases', 'Deaths', '2021 Population'])\n",
    "#joined_df = joined_df.dropna(subset=['Date', 'CountyID', 'StateID', 'State Name', 'Cases', 'Deaths', '2021 Population'])\n",
    "\n",
    "print(joined_df)\n"
   ]
  },
  {
   "cell_type": "markdown",
   "metadata": {},
   "source": [
    "# Add Change in Deaths/Cases Columns"
   ]
  },
  {
   "cell_type": "code",
   "execution_count": null,
   "metadata": {},
   "outputs": [],
   "source": [
    "cases_counts = {}\n",
    "change_in_cases = []\n",
    "for index, row in joined_df.iterrows():\n",
    "    countyID = row['CountyID']\n",
    "    cases = row['Cases']\n",
    "    if countyID not in cases_counts:\n",
    "        change_in_cases.append(cases)\n",
    "    else:\n",
    "        change_in_cases.append(cases - cases_counts[countyID])\n",
    "    cases_counts[countyID] = cases"
   ]
  },
  {
   "cell_type": "code",
   "execution_count": null,
   "metadata": {},
   "outputs": [],
   "source": [
    "deaths_counts = {}\n",
    "change_in_deaths = []\n",
    "for index, row in joined_df.iterrows():\n",
    "    countyID = row['CountyID']\n",
    "    deaths = row['Deaths']\n",
    "    if countyID not in deaths_counts:\n",
    "        change_in_deaths.append(deaths)\n",
    "    else:\n",
    "        change_in_deaths.append(deaths - deaths_counts[countyID])\n",
    "    deaths_counts[countyID] = deaths"
   ]
  },
  {
   "cell_type": "code",
   "execution_count": null,
   "metadata": {},
   "outputs": [],
   "source": [
    "joined_df['Cases Delta'] = change_in_cases\n",
    "joined_df['Deaths Delta'] = change_in_deaths"
   ]
  },
  {
   "cell_type": "code",
   "execution_count": null,
   "metadata": {},
   "outputs": [],
   "source": [
    "joined_df.to_csv(os.getcwd() + '/Data/joined_df.csv', index=False)"
   ]
  },
  {
   "cell_type": "code",
   "execution_count": null,
   "metadata": {},
   "outputs": [],
   "source": [
    "na_locations = joined_df.isna()\n",
    "print(na_locations)"
   ]
  },
  {
   "cell_type": "code",
   "execution_count": null,
   "metadata": {},
   "outputs": [],
   "source": []
  }
 ],
 "metadata": {
  "kernelspec": {
   "display_name": "Python 3",
   "language": "python",
   "name": "python3"
  },
  "language_info": {
   "codemirror_mode": {
    "name": "ipython",
    "version": 3
   },
   "file_extension": ".py",
   "mimetype": "text/x-python",
   "name": "python",
   "nbconvert_exporter": "python",
   "pygments_lexer": "ipython3",
   "version": "3.10.4"
  }
 },
 "nbformat": 4,
 "nbformat_minor": 2
}
